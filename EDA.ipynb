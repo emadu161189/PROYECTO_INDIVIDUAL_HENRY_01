{
 "cells": [
  {
   "cell_type": "code",
   "execution_count": 29,
   "metadata": {},
   "outputs": [],
   "source": [
    "import pandas as pd\n",
    "import matplotlib.pyplot as plt\n",
    "import seaborn as sns"
   ]
  },
  {
   "cell_type": "code",
   "execution_count": 30,
   "metadata": {},
   "outputs": [],
   "source": [
    "df = pd.read_csv('etl_df', low_memory= False)"
   ]
  },
  {
   "cell_type": "code",
   "execution_count": 114,
   "metadata": {},
   "outputs": [],
   "source": []
  },
  {
   "cell_type": "code",
   "execution_count": 31,
   "metadata": {},
   "outputs": [
    {
     "data": {
      "text/html": [
       "<div>\n",
       "<style scoped>\n",
       "    .dataframe tbody tr th:only-of-type {\n",
       "        vertical-align: middle;\n",
       "    }\n",
       "\n",
       "    .dataframe tbody tr th {\n",
       "        vertical-align: top;\n",
       "    }\n",
       "\n",
       "    .dataframe thead th {\n",
       "        text-align: right;\n",
       "    }\n",
       "</style>\n",
       "<table border=\"1\" class=\"dataframe\">\n",
       "  <thead>\n",
       "    <tr style=\"text-align: right;\">\n",
       "      <th></th>\n",
       "      <th>original_language</th>\n",
       "      <th>overview</th>\n",
       "      <th>popularity</th>\n",
       "      <th>release_date</th>\n",
       "      <th>status</th>\n",
       "      <th>tagline</th>\n",
       "      <th>title</th>\n",
       "      <th>vote_average</th>\n",
       "      <th>anio</th>\n",
       "      <th>return_(%)</th>\n",
       "      <th>runtime_(minutos)</th>\n",
       "      <th>budget_(dolares)</th>\n",
       "      <th>revenue_(dolares)</th>\n",
       "      <th>director</th>\n",
       "      <th>genres</th>\n",
       "      <th>production_companies</th>\n",
       "      <th>production_countries</th>\n",
       "      <th>spoken_languages</th>\n",
       "    </tr>\n",
       "  </thead>\n",
       "  <tbody>\n",
       "    <tr>\n",
       "      <th>0</th>\n",
       "      <td>en</td>\n",
       "      <td>Led by Woody, Andy's toys live happily in his ...</td>\n",
       "      <td>21.946943</td>\n",
       "      <td>1995-10-30</td>\n",
       "      <td>Released</td>\n",
       "      <td>NaN</td>\n",
       "      <td>Toy Story</td>\n",
       "      <td>7.7</td>\n",
       "      <td>1995.0</td>\n",
       "      <td>1245.0</td>\n",
       "      <td>81.0</td>\n",
       "      <td>30000000.0</td>\n",
       "      <td>373554033.0</td>\n",
       "      <td>JohnLasseter</td>\n",
       "      <td>Animation-Comedy-Family</td>\n",
       "      <td>PixarAnimationStudios</td>\n",
       "      <td>UnitedStatesofAmerica</td>\n",
       "      <td>English</td>\n",
       "    </tr>\n",
       "    <tr>\n",
       "      <th>1</th>\n",
       "      <td>en</td>\n",
       "      <td>When siblings Judy and Peter discover an encha...</td>\n",
       "      <td>17.015539</td>\n",
       "      <td>1995-12-15</td>\n",
       "      <td>Released</td>\n",
       "      <td>Roll the dice and unleash the excitement!</td>\n",
       "      <td>Jumanji</td>\n",
       "      <td>6.9</td>\n",
       "      <td>1995.0</td>\n",
       "      <td>404.0</td>\n",
       "      <td>104.0</td>\n",
       "      <td>65000000.0</td>\n",
       "      <td>262797249.0</td>\n",
       "      <td>JoeJohnston</td>\n",
       "      <td>Adventure-Fantasy-Family</td>\n",
       "      <td>TriStarPictures-TeitlerFilm-InterscopeCommunic...</td>\n",
       "      <td>UnitedStatesofAmerica</td>\n",
       "      <td>English-Français</td>\n",
       "    </tr>\n",
       "    <tr>\n",
       "      <th>2</th>\n",
       "      <td>en</td>\n",
       "      <td>A family wedding reignites the ancient feud be...</td>\n",
       "      <td>11.7129</td>\n",
       "      <td>1995-12-22</td>\n",
       "      <td>Released</td>\n",
       "      <td>Still Yelling. Still Fighting. Still Ready for...</td>\n",
       "      <td>Grumpier Old Men</td>\n",
       "      <td>6.5</td>\n",
       "      <td>1995.0</td>\n",
       "      <td>0.0</td>\n",
       "      <td>101.0</td>\n",
       "      <td>0.0</td>\n",
       "      <td>0.0</td>\n",
       "      <td>HowardDeutch</td>\n",
       "      <td>Romance-Comedy</td>\n",
       "      <td>WarnerBros.-LancasterGate</td>\n",
       "      <td>UnitedStatesofAmerica</td>\n",
       "      <td>English</td>\n",
       "    </tr>\n",
       "    <tr>\n",
       "      <th>3</th>\n",
       "      <td>en</td>\n",
       "      <td>Cheated on, mistreated and stepped on, the wom...</td>\n",
       "      <td>3.859495</td>\n",
       "      <td>1995-12-22</td>\n",
       "      <td>Released</td>\n",
       "      <td>Friends are the people who let you be yourself...</td>\n",
       "      <td>Waiting to Exhale</td>\n",
       "      <td>6.1</td>\n",
       "      <td>1995.0</td>\n",
       "      <td>509.0</td>\n",
       "      <td>127.0</td>\n",
       "      <td>16000000.0</td>\n",
       "      <td>81452156.0</td>\n",
       "      <td>ForestWhitaker</td>\n",
       "      <td>Comedy-Drama-Romance</td>\n",
       "      <td>TwentiethCenturyFoxFilmCorporation</td>\n",
       "      <td>UnitedStatesofAmerica</td>\n",
       "      <td>English</td>\n",
       "    </tr>\n",
       "    <tr>\n",
       "      <th>4</th>\n",
       "      <td>en</td>\n",
       "      <td>Just when George Banks has recovered from his ...</td>\n",
       "      <td>8.387519</td>\n",
       "      <td>1995-02-10</td>\n",
       "      <td>Released</td>\n",
       "      <td>Just When His World Is Back To Normal... He's ...</td>\n",
       "      <td>Father of the Bride Part II</td>\n",
       "      <td>5.7</td>\n",
       "      <td>1995.0</td>\n",
       "      <td>0.0</td>\n",
       "      <td>106.0</td>\n",
       "      <td>0.0</td>\n",
       "      <td>76578911.0</td>\n",
       "      <td>CharlesShyer</td>\n",
       "      <td>Comedy</td>\n",
       "      <td>SandollarProductions-TouchstonePictures</td>\n",
       "      <td>UnitedStatesofAmerica</td>\n",
       "      <td>English</td>\n",
       "    </tr>\n",
       "  </tbody>\n",
       "</table>\n",
       "</div>"
      ],
      "text/plain": [
       "  original_language                                           overview  \\\n",
       "0                en  Led by Woody, Andy's toys live happily in his ...   \n",
       "1                en  When siblings Judy and Peter discover an encha...   \n",
       "2                en  A family wedding reignites the ancient feud be...   \n",
       "3                en  Cheated on, mistreated and stepped on, the wom...   \n",
       "4                en  Just when George Banks has recovered from his ...   \n",
       "\n",
       "  popularity release_date    status  \\\n",
       "0  21.946943   1995-10-30  Released   \n",
       "1  17.015539   1995-12-15  Released   \n",
       "2    11.7129   1995-12-22  Released   \n",
       "3   3.859495   1995-12-22  Released   \n",
       "4   8.387519   1995-02-10  Released   \n",
       "\n",
       "                                             tagline  \\\n",
       "0                                                NaN   \n",
       "1          Roll the dice and unleash the excitement!   \n",
       "2  Still Yelling. Still Fighting. Still Ready for...   \n",
       "3  Friends are the people who let you be yourself...   \n",
       "4  Just When His World Is Back To Normal... He's ...   \n",
       "\n",
       "                         title  vote_average    anio  return_(%)  \\\n",
       "0                    Toy Story           7.7  1995.0      1245.0   \n",
       "1                      Jumanji           6.9  1995.0       404.0   \n",
       "2             Grumpier Old Men           6.5  1995.0         0.0   \n",
       "3            Waiting to Exhale           6.1  1995.0       509.0   \n",
       "4  Father of the Bride Part II           5.7  1995.0         0.0   \n",
       "\n",
       "   runtime_(minutos)  budget_(dolares)  revenue_(dolares)        director  \\\n",
       "0               81.0        30000000.0        373554033.0    JohnLasseter   \n",
       "1              104.0        65000000.0        262797249.0     JoeJohnston   \n",
       "2              101.0               0.0                0.0    HowardDeutch   \n",
       "3              127.0        16000000.0         81452156.0  ForestWhitaker   \n",
       "4              106.0               0.0         76578911.0    CharlesShyer   \n",
       "\n",
       "                     genres  \\\n",
       "0   Animation-Comedy-Family   \n",
       "1  Adventure-Fantasy-Family   \n",
       "2            Romance-Comedy   \n",
       "3      Comedy-Drama-Romance   \n",
       "4                    Comedy   \n",
       "\n",
       "                                production_companies   production_countries  \\\n",
       "0                              PixarAnimationStudios  UnitedStatesofAmerica   \n",
       "1  TriStarPictures-TeitlerFilm-InterscopeCommunic...  UnitedStatesofAmerica   \n",
       "2                          WarnerBros.-LancasterGate  UnitedStatesofAmerica   \n",
       "3                 TwentiethCenturyFoxFilmCorporation  UnitedStatesofAmerica   \n",
       "4            SandollarProductions-TouchstonePictures  UnitedStatesofAmerica   \n",
       "\n",
       "   spoken_languages  \n",
       "0           English  \n",
       "1  English-Français  \n",
       "2           English  \n",
       "3           English  \n",
       "4           English  "
      ]
     },
     "execution_count": 31,
     "metadata": {},
     "output_type": "execute_result"
    }
   ],
   "source": [
    "df.head()"
   ]
  },
  {
   "cell_type": "code",
   "execution_count": 32,
   "metadata": {},
   "outputs": [
    {
     "name": "stdout",
     "output_type": "stream",
     "text": [
      "<class 'pandas.core.frame.DataFrame'>\n",
      "RangeIndex: 45542 entries, 0 to 45541\n",
      "Data columns (total 18 columns):\n",
      " #   Column                Non-Null Count  Dtype  \n",
      "---  ------                --------------  -----  \n",
      " 0   original_language     45444 non-null  object \n",
      " 1   overview              44514 non-null  object \n",
      " 2   popularity            45453 non-null  object \n",
      " 3   release_date          45452 non-null  object \n",
      " 4   status                45372 non-null  object \n",
      " 5   tagline               20425 non-null  object \n",
      " 6   title                 45452 non-null  object \n",
      " 7   vote_average          45452 non-null  float64\n",
      " 8   anio                  45452 non-null  float64\n",
      " 9   return_(%)            45455 non-null  float64\n",
      " 10  runtime_(minutos)     45455 non-null  float64\n",
      " 11  budget_(dolares)      45455 non-null  float64\n",
      " 12  revenue_(dolares)     45455 non-null  float64\n",
      " 13  director              25736 non-null  object \n",
      " 14  genres                43070 non-null  object \n",
      " 15  production_companies  33637 non-null  object \n",
      " 16  production_countries  39232 non-null  object \n",
      " 17  spoken_languages      41552 non-null  object \n",
      "dtypes: float64(6), object(12)\n",
      "memory usage: 6.3+ MB\n"
     ]
    }
   ],
   "source": [
    "df.info()"
   ]
  },
  {
   "cell_type": "code",
   "execution_count": 33,
   "metadata": {},
   "outputs": [
    {
     "data": {
      "text/html": [
       "<div>\n",
       "<style scoped>\n",
       "    .dataframe tbody tr th:only-of-type {\n",
       "        vertical-align: middle;\n",
       "    }\n",
       "\n",
       "    .dataframe tbody tr th {\n",
       "        vertical-align: top;\n",
       "    }\n",
       "\n",
       "    .dataframe thead th {\n",
       "        text-align: right;\n",
       "    }\n",
       "</style>\n",
       "<table border=\"1\" class=\"dataframe\">\n",
       "  <thead>\n",
       "    <tr style=\"text-align: right;\">\n",
       "      <th></th>\n",
       "      <th>vote_average</th>\n",
       "      <th>anio</th>\n",
       "      <th>return_(%)</th>\n",
       "      <th>runtime_(minutos)</th>\n",
       "      <th>budget_(dolares)</th>\n",
       "      <th>revenue_(dolares)</th>\n",
       "    </tr>\n",
       "  </thead>\n",
       "  <tbody>\n",
       "    <tr>\n",
       "      <th>count</th>\n",
       "      <td>45452.000000</td>\n",
       "      <td>45452.000000</td>\n",
       "      <td>4.545500e+04</td>\n",
       "      <td>45455.000000</td>\n",
       "      <td>4.545500e+04</td>\n",
       "      <td>4.545500e+04</td>\n",
       "    </tr>\n",
       "    <tr>\n",
       "      <th>mean</th>\n",
       "      <td>5.623962</td>\n",
       "      <td>1991.882579</td>\n",
       "      <td>6.588962e+04</td>\n",
       "      <td>93.663909</td>\n",
       "      <td>4.230922e+06</td>\n",
       "      <td>1.121831e+07</td>\n",
       "    </tr>\n",
       "    <tr>\n",
       "      <th>std</th>\n",
       "      <td>1.915585</td>\n",
       "      <td>24.057750</td>\n",
       "      <td>7.462836e+06</td>\n",
       "      <td>38.853429</td>\n",
       "      <td>1.742869e+07</td>\n",
       "      <td>6.433710e+07</td>\n",
       "    </tr>\n",
       "    <tr>\n",
       "      <th>min</th>\n",
       "      <td>0.000000</td>\n",
       "      <td>1874.000000</td>\n",
       "      <td>0.000000e+00</td>\n",
       "      <td>0.000000</td>\n",
       "      <td>0.000000e+00</td>\n",
       "      <td>0.000000e+00</td>\n",
       "    </tr>\n",
       "    <tr>\n",
       "      <th>25%</th>\n",
       "      <td>5.000000</td>\n",
       "      <td>1978.000000</td>\n",
       "      <td>0.000000e+00</td>\n",
       "      <td>85.000000</td>\n",
       "      <td>0.000000e+00</td>\n",
       "      <td>0.000000e+00</td>\n",
       "    </tr>\n",
       "    <tr>\n",
       "      <th>50%</th>\n",
       "      <td>6.000000</td>\n",
       "      <td>2001.000000</td>\n",
       "      <td>0.000000e+00</td>\n",
       "      <td>95.000000</td>\n",
       "      <td>0.000000e+00</td>\n",
       "      <td>0.000000e+00</td>\n",
       "    </tr>\n",
       "    <tr>\n",
       "      <th>75%</th>\n",
       "      <td>6.800000</td>\n",
       "      <td>2010.000000</td>\n",
       "      <td>0.000000e+00</td>\n",
       "      <td>107.000000</td>\n",
       "      <td>0.000000e+00</td>\n",
       "      <td>0.000000e+00</td>\n",
       "    </tr>\n",
       "    <tr>\n",
       "      <th>max</th>\n",
       "      <td>10.000000</td>\n",
       "      <td>2020.000000</td>\n",
       "      <td>1.239638e+09</td>\n",
       "      <td>1256.000000</td>\n",
       "      <td>3.800000e+08</td>\n",
       "      <td>2.787965e+09</td>\n",
       "    </tr>\n",
       "  </tbody>\n",
       "</table>\n",
       "</div>"
      ],
      "text/plain": [
       "       vote_average          anio    return_(%)  runtime_(minutos)  \\\n",
       "count  45452.000000  45452.000000  4.545500e+04       45455.000000   \n",
       "mean       5.623962   1991.882579  6.588962e+04          93.663909   \n",
       "std        1.915585     24.057750  7.462836e+06          38.853429   \n",
       "min        0.000000   1874.000000  0.000000e+00           0.000000   \n",
       "25%        5.000000   1978.000000  0.000000e+00          85.000000   \n",
       "50%        6.000000   2001.000000  0.000000e+00          95.000000   \n",
       "75%        6.800000   2010.000000  0.000000e+00         107.000000   \n",
       "max       10.000000   2020.000000  1.239638e+09        1256.000000   \n",
       "\n",
       "       budget_(dolares)  revenue_(dolares)  \n",
       "count      4.545500e+04       4.545500e+04  \n",
       "mean       4.230922e+06       1.121831e+07  \n",
       "std        1.742869e+07       6.433710e+07  \n",
       "min        0.000000e+00       0.000000e+00  \n",
       "25%        0.000000e+00       0.000000e+00  \n",
       "50%        0.000000e+00       0.000000e+00  \n",
       "75%        0.000000e+00       0.000000e+00  \n",
       "max        3.800000e+08       2.787965e+09  "
      ]
     },
     "execution_count": 33,
     "metadata": {},
     "output_type": "execute_result"
    }
   ],
   "source": [
    "df.describe()"
   ]
  },
  {
   "cell_type": "code",
   "execution_count": 98,
   "metadata": {},
   "outputs": [
    {
     "data": {
      "image/png": "[encoded data removed]",
      "text/plain": [
       "<Figure size 640x480 with 1 Axes>"
      ]
     },
     "metadata": {},
     "output_type": "display_data"
    }
   ],
   "source": [
    "sns.kdeplot([value for value in df['budget'] if value != 0], fill=True, color='blue')\n",
    "\n",
    "# Agrega etiquetas y título\n",
    "plt.xlabel('Valores')\n",
    "plt.ylabel('Densidad')\n",
    "plt.title('Distribución KDE')\n",
    "\n",
    "plt.show()"
   ]
  },
  {
   "cell_type": "code",
   "execution_count": 99,
   "metadata": {},
   "outputs": [
    {
     "data": {
      "image/png": "[encoded data removed]",
      "text/plain": [
       "<Figure size 640x480 with 1 Axes>"
      ]
     },
     "metadata": {},
     "output_type": "display_data"
    }
   ],
   "source": [
    "sns.kdeplot([value for value in df['revenue'] if value != 0], fill=True, color='red')\n",
    "\n",
    "# Agrega etiquetas y título\n",
    "plt.xlabel('Valores')\n",
    "plt.ylabel('Densidad')\n",
    "plt.title('Distribución KDE')\n",
    "\n",
    "plt.show()"
   ]
  },
  {
   "cell_type": "code",
   "execution_count": 118,
   "metadata": {},
   "outputs": [
    {
     "data": {
      "image/png": "[encoded data removed]",
      "text/plain": [
       "<Figure size 640x480 with 1 Axes>"
      ]
     },
     "metadata": {},
     "output_type": "display_data"
    }
   ],
   "source": [
    "sns.kdeplot([value for value in df['return'] if value < 1000 and value > 0], fill=True, color='red')\n",
    "\n",
    "# Agrega etiquetas y título\n",
    "plt.xlabel('Valores')\n",
    "plt.ylabel('Densidad')\n",
    "plt.title('Distribución KDE')\n",
    "\n",
    "plt.show()"
   ]
  },
  {
   "cell_type": "code",
   "execution_count": 107,
   "metadata": {},
   "outputs": [
    {
     "data": {
      "text/plain": [
       "1239638300.0"
      ]
     },
     "execution_count": 107,
     "metadata": {},
     "output_type": "execute_result"
    }
   ],
   "source": [
    "df['return'].max()"
   ]
  },
  {
   "cell_type": "code",
   "execution_count": null,
   "metadata": {},
   "outputs": [],
   "source": []
  },
  {
   "cell_type": "code",
   "execution_count": null,
   "metadata": {},
   "outputs": [],
   "source": []
  },
  {
   "cell_type": "code",
   "execution_count": null,
   "metadata": {},
   "outputs": [],
   "source": []
  },
  {
   "cell_type": "code",
   "execution_count": null,
   "metadata": {},
   "outputs": [],
   "source": []
  },
  {
   "cell_type": "code",
   "execution_count": null,
   "metadata": {},
   "outputs": [],
   "source": []
  },
  {
   "cell_type": "code",
   "execution_count": null,
   "metadata": {},
   "outputs": [],
   "source": []
  },
  {
   "cell_type": "code",
   "execution_count": null,
   "metadata": {},
   "outputs": [],
   "source": []
  },
  {
   "cell_type": "code",
   "execution_count": null,
   "metadata": {},
   "outputs": [],
   "source": []
  },
  {
   "cell_type": "code",
   "execution_count": null,
   "metadata": {},
   "outputs": [],
   "source": []
  },
  {
   "cell_type": "code",
   "execution_count": null,
   "metadata": {},
   "outputs": [],
   "source": []
  },
  {
   "cell_type": "code",
   "execution_count": null,
   "metadata": {},
   "outputs": [],
   "source": []
  },
  {
   "cell_type": "code",
   "execution_count": null,
   "metadata": {},
   "outputs": [],
   "source": []
  },
  {
   "cell_type": "code",
   "execution_count": null,
   "metadata": {},
   "outputs": [],
   "source": []
  },
  {
   "cell_type": "code",
   "execution_count": null,
   "metadata": {},
   "outputs": [],
   "source": []
  }
 ],
 "metadata": {
  "kernelspec": {
   "display_name": "PROYECTO_INDIVIDUAL_01",
   "language": "python",
   "name": "python3"
  },
  "language_info": {
   "codemirror_mode": {
    "name": "ipython",
    "version": 3
   },
   "file_extension": ".py",
   "mimetype": "text/x-python",
   "name": "python",
   "nbconvert_exporter": "python",
   "pygments_lexer": "ipython3",
   "version": "3.11.1"
  },
  "orig_nbformat": 4
 },
 "nbformat": 4,
 "nbformat_minor": 2
}
