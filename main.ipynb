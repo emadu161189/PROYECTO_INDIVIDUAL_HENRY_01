{
 "cells": [
  {
   "cell_type": "code",
   "execution_count": 142,
   "metadata": {},
   "outputs": [],
   "source": [
    "import pandas as pd\n",
    "import numpy as np"
   ]
  },
  {
   "cell_type": "code",
   "execution_count": 143,
   "metadata": {},
   "outputs": [
    {
     "data": {
      "text/html": [
       "<div>\n",
       "<style scoped>\n",
       "    .dataframe tbody tr th:only-of-type {\n",
       "        vertical-align: middle;\n",
       "    }\n",
       "\n",
       "    .dataframe tbody tr th {\n",
       "        vertical-align: top;\n",
       "    }\n",
       "\n",
       "    .dataframe thead th {\n",
       "        text-align: right;\n",
       "    }\n",
       "</style>\n",
       "<table border=\"1\" class=\"dataframe\">\n",
       "  <thead>\n",
       "    <tr style=\"text-align: right;\">\n",
       "      <th></th>\n",
       "      <th>original_language</th>\n",
       "      <th>overview</th>\n",
       "      <th>popularity</th>\n",
       "      <th>release_date</th>\n",
       "      <th>status</th>\n",
       "      <th>tagline</th>\n",
       "      <th>title</th>\n",
       "      <th>vote_average</th>\n",
       "      <th>anio</th>\n",
       "      <th>return_(%)</th>\n",
       "      <th>runtime_(minutos)</th>\n",
       "      <th>budget_(dolares)</th>\n",
       "      <th>revenue_(dolares)</th>\n",
       "      <th>director</th>\n",
       "      <th>belongs_to_collection</th>\n",
       "      <th>genres</th>\n",
       "      <th>production_companies</th>\n",
       "      <th>production_countries</th>\n",
       "      <th>spoken_languages</th>\n",
       "    </tr>\n",
       "  </thead>\n",
       "  <tbody>\n",
       "    <tr>\n",
       "      <th>0</th>\n",
       "      <td>en</td>\n",
       "      <td>Led by Woody, Andy's toys live happily in his ...</td>\n",
       "      <td>21.946943</td>\n",
       "      <td>1995-10-30</td>\n",
       "      <td>Released</td>\n",
       "      <td>NaN</td>\n",
       "      <td>Toy Story</td>\n",
       "      <td>7.7</td>\n",
       "      <td>1995.0</td>\n",
       "      <td>1245.0</td>\n",
       "      <td>81.0</td>\n",
       "      <td>30000000.0</td>\n",
       "      <td>373554033.0</td>\n",
       "      <td>JohnLasseter</td>\n",
       "      <td>Toy Story Collection</td>\n",
       "      <td>Animation-Comedy-Family</td>\n",
       "      <td>PixarAnimationStudios</td>\n",
       "      <td>UnitedStatesofAmerica</td>\n",
       "      <td>English</td>\n",
       "    </tr>\n",
       "    <tr>\n",
       "      <th>1</th>\n",
       "      <td>en</td>\n",
       "      <td>When siblings Judy and Peter discover an encha...</td>\n",
       "      <td>17.015539</td>\n",
       "      <td>1995-12-15</td>\n",
       "      <td>Released</td>\n",
       "      <td>Roll the dice and unleash the excitement!</td>\n",
       "      <td>Jumanji</td>\n",
       "      <td>6.9</td>\n",
       "      <td>1995.0</td>\n",
       "      <td>404.0</td>\n",
       "      <td>104.0</td>\n",
       "      <td>65000000.0</td>\n",
       "      <td>262797249.0</td>\n",
       "      <td>JoeJohnston</td>\n",
       "      <td>NaN</td>\n",
       "      <td>Adventure-Fantasy-Family</td>\n",
       "      <td>TriStarPictures-TeitlerFilm-InterscopeCommunic...</td>\n",
       "      <td>UnitedStatesofAmerica</td>\n",
       "      <td>English-Français</td>\n",
       "    </tr>\n",
       "    <tr>\n",
       "      <th>2</th>\n",
       "      <td>en</td>\n",
       "      <td>A family wedding reignites the ancient feud be...</td>\n",
       "      <td>11.7129</td>\n",
       "      <td>1995-12-22</td>\n",
       "      <td>Released</td>\n",
       "      <td>Still Yelling. Still Fighting. Still Ready for...</td>\n",
       "      <td>Grumpier Old Men</td>\n",
       "      <td>6.5</td>\n",
       "      <td>1995.0</td>\n",
       "      <td>0.0</td>\n",
       "      <td>101.0</td>\n",
       "      <td>0.0</td>\n",
       "      <td>0.0</td>\n",
       "      <td>HowardDeutch</td>\n",
       "      <td>Grumpy Old Men Collection</td>\n",
       "      <td>Romance-Comedy</td>\n",
       "      <td>WarnerBros.-LancasterGate</td>\n",
       "      <td>UnitedStatesofAmerica</td>\n",
       "      <td>English</td>\n",
       "    </tr>\n",
       "    <tr>\n",
       "      <th>3</th>\n",
       "      <td>en</td>\n",
       "      <td>Cheated on, mistreated and stepped on, the wom...</td>\n",
       "      <td>3.859495</td>\n",
       "      <td>1995-12-22</td>\n",
       "      <td>Released</td>\n",
       "      <td>Friends are the people who let you be yourself...</td>\n",
       "      <td>Waiting to Exhale</td>\n",
       "      <td>6.1</td>\n",
       "      <td>1995.0</td>\n",
       "      <td>509.0</td>\n",
       "      <td>127.0</td>\n",
       "      <td>16000000.0</td>\n",
       "      <td>81452156.0</td>\n",
       "      <td>ForestWhitaker</td>\n",
       "      <td>NaN</td>\n",
       "      <td>Comedy-Drama-Romance</td>\n",
       "      <td>TwentiethCenturyFoxFilmCorporation</td>\n",
       "      <td>UnitedStatesofAmerica</td>\n",
       "      <td>English</td>\n",
       "    </tr>\n",
       "    <tr>\n",
       "      <th>4</th>\n",
       "      <td>en</td>\n",
       "      <td>Just when George Banks has recovered from his ...</td>\n",
       "      <td>8.387519</td>\n",
       "      <td>1995-02-10</td>\n",
       "      <td>Released</td>\n",
       "      <td>Just When His World Is Back To Normal... He's ...</td>\n",
       "      <td>Father of the Bride Part II</td>\n",
       "      <td>5.7</td>\n",
       "      <td>1995.0</td>\n",
       "      <td>0.0</td>\n",
       "      <td>106.0</td>\n",
       "      <td>0.0</td>\n",
       "      <td>76578911.0</td>\n",
       "      <td>CharlesShyer</td>\n",
       "      <td>Fatherofthe Bride Collection</td>\n",
       "      <td>Comedy</td>\n",
       "      <td>SandollarProductions-TouchstonePictures</td>\n",
       "      <td>UnitedStatesofAmerica</td>\n",
       "      <td>English</td>\n",
       "    </tr>\n",
       "  </tbody>\n",
       "</table>\n",
       "</div>"
      ],
      "text/plain": [
       "  original_language                                           overview  \\\n",
       "0                en  Led by Woody, Andy's toys live happily in his ...   \n",
       "1                en  When siblings Judy and Peter discover an encha...   \n",
       "2                en  A family wedding reignites the ancient feud be...   \n",
       "3                en  Cheated on, mistreated and stepped on, the wom...   \n",
       "4                en  Just when George Banks has recovered from his ...   \n",
       "\n",
       "  popularity release_date    status  \\\n",
       "0  21.946943   1995-10-30  Released   \n",
       "1  17.015539   1995-12-15  Released   \n",
       "2    11.7129   1995-12-22  Released   \n",
       "3   3.859495   1995-12-22  Released   \n",
       "4   8.387519   1995-02-10  Released   \n",
       "\n",
       "                                             tagline  \\\n",
       "0                                                NaN   \n",
       "1          Roll the dice and unleash the excitement!   \n",
       "2  Still Yelling. Still Fighting. Still Ready for...   \n",
       "3  Friends are the people who let you be yourself...   \n",
       "4  Just When His World Is Back To Normal... He's ...   \n",
       "\n",
       "                         title  vote_average    anio  return_(%)  \\\n",
       "0                    Toy Story           7.7  1995.0      1245.0   \n",
       "1                      Jumanji           6.9  1995.0       404.0   \n",
       "2             Grumpier Old Men           6.5  1995.0         0.0   \n",
       "3            Waiting to Exhale           6.1  1995.0       509.0   \n",
       "4  Father of the Bride Part II           5.7  1995.0         0.0   \n",
       "\n",
       "   runtime_(minutos)  budget_(dolares)  revenue_(dolares)        director  \\\n",
       "0               81.0        30000000.0        373554033.0    JohnLasseter   \n",
       "1              104.0        65000000.0        262797249.0     JoeJohnston   \n",
       "2              101.0               0.0                0.0    HowardDeutch   \n",
       "3              127.0        16000000.0         81452156.0  ForestWhitaker   \n",
       "4              106.0               0.0         76578911.0    CharlesShyer   \n",
       "\n",
       "          belongs_to_collection                    genres  \\\n",
       "0          Toy Story Collection   Animation-Comedy-Family   \n",
       "1                           NaN  Adventure-Fantasy-Family   \n",
       "2     Grumpy Old Men Collection            Romance-Comedy   \n",
       "3                           NaN      Comedy-Drama-Romance   \n",
       "4  Fatherofthe Bride Collection                    Comedy   \n",
       "\n",
       "                                production_companies   production_countries  \\\n",
       "0                              PixarAnimationStudios  UnitedStatesofAmerica   \n",
       "1  TriStarPictures-TeitlerFilm-InterscopeCommunic...  UnitedStatesofAmerica   \n",
       "2                          WarnerBros.-LancasterGate  UnitedStatesofAmerica   \n",
       "3                 TwentiethCenturyFoxFilmCorporation  UnitedStatesofAmerica   \n",
       "4            SandollarProductions-TouchstonePictures  UnitedStatesofAmerica   \n",
       "\n",
       "   spoken_languages  \n",
       "0           English  \n",
       "1  English-Français  \n",
       "2           English  \n",
       "3           English  \n",
       "4           English  "
      ]
     },
     "execution_count": 143,
     "metadata": {},
     "output_type": "execute_result"
    }
   ],
   "source": [
    "df = pd.read_csv('etl_df', low_memory= False)\n",
    "df.head()"
   ]
  },
  {
   "cell_type": "code",
   "execution_count": 144,
   "metadata": {},
   "outputs": [],
   "source": [
    "def peliculas_idioma(idioma: str):\n",
    "    cont = df['original_language'].value_counts()[idioma]\n",
    "    return print(cont, 'peliculas se estrenaron en', idioma)"
   ]
  },
  {
   "cell_type": "code",
   "execution_count": 145,
   "metadata": {},
   "outputs": [
    {
     "name": "stdout",
     "output_type": "stream",
     "text": [
      "992 peliculas se estrenaron en es\n"
     ]
    }
   ],
   "source": [
    "peliculas_idioma('es')"
   ]
  },
  {
   "cell_type": "code",
   "execution_count": 146,
   "metadata": {},
   "outputs": [],
   "source": [
    "def peliculas_duracion(titulo: str):\n",
    "    dato = titulo.title()\n",
    "    pelicula = df.loc[df.index[df['title'] == dato].tolist(), 'title'].iloc[0]\n",
    "    duracion = df.loc[df.index[df['title'] == dato].tolist(), 'runtime_(minutos)'].iloc[0]\n",
    "    anio = df.loc[df.index[df['title'] == dato].tolist(), 'anio'].iloc[0]\n",
    "    return pelicula, duracion, anio"
   ]
  },
  {
   "cell_type": "code",
   "execution_count": 147,
   "metadata": {},
   "outputs": [
    {
     "data": {
      "text/plain": [
       "('Jumanji', 104.0, 1995.0)"
      ]
     },
     "execution_count": 147,
     "metadata": {},
     "output_type": "execute_result"
    }
   ],
   "source": [
    "peliculas_duracion('JUMANJI')"
   ]
  },
  {
   "cell_type": "code",
   "execution_count": 148,
   "metadata": {},
   "outputs": [],
   "source": [
    "def franquicia(franquicia:str):\n",
    "    dato = franquicia.title()\n",
    "    franquicia = df.loc[df.index[df['belongs_to_collection'] == dato].tolist(), 'belongs_to_collection'].iloc[0]\n",
    "    cantidad = df['belongs_to_collection'].value_counts()[dato]\n",
    "    df_red = df[df['belongs_to_collection'] == dato]\n",
    "    ganancia_total = round(df_red['revenue_(dolares)'].sum() - df_red['budget_(dolares)'].sum())\n",
    "    ganancia_promedio = round(df_red['revenue_(dolares)'].mean() - df_red['budget_(dolares)'].mean())\n",
    "    return franquicia, cantidad, ganancia_total, ganancia_promedio\n",
    "\n",
    "    #return {'franquicia':franquicia, 'cantidad':respuesta, 'ganancia_total':respuesta, 'ganancia_promedio':respuesta}"
   ]
  },
  {
   "cell_type": "code",
   "execution_count": 149,
   "metadata": {},
   "outputs": [
    {
     "data": {
      "text/plain": [
       "('Toy Story Collection', 3, 1617890605, 539296868)"
      ]
     },
     "execution_count": 149,
     "metadata": {},
     "output_type": "execute_result"
    }
   ],
   "source": [
    "franquicia('Toy Story Collection')"
   ]
  }
 ],
 "metadata": {
  "kernelspec": {
   "display_name": "PROYECTO_INDIVIDUAL_01",
   "language": "python",
   "name": "python3"
  },
  "language_info": {
   "codemirror_mode": {
    "name": "ipython",
    "version": 3
   },
   "file_extension": ".py",
   "mimetype": "text/x-python",
   "name": "python",
   "nbconvert_exporter": "python",
   "pygments_lexer": "ipython3",
   "version": "3.11.1"
  },
  "orig_nbformat": 4
 },
 "nbformat": 4,
 "nbformat_minor": 2
}
