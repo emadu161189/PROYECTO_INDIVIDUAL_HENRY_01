{
 "cells": [
  {
   "cell_type": "code",
   "execution_count": 52,
   "metadata": {},
   "outputs": [],
   "source": [
    "#Importacion de bibliotecas\n",
    "\n",
    "import pandas as pd\n",
    "\n",
    "import re\n",
    "\n"
   ]
  },
  {
   "cell_type": "code",
   "execution_count": 53,
   "metadata": {},
   "outputs": [],
   "source": [
    "#Importar archivos\n",
    "\n",
    "movies_df = pd.read_csv(\"C:/Users/eduen/AppData/Local/Temp/movies_dataset.csv\", low_memory= False)\n",
    "\n",
    "credits_df = pd.read_csv(\"C:/Users/eduen/AppData/Local/Temp/credits.csv\", low_memory= False)\n",
    "\n"
   ]
  },
  {
   "cell_type": "code",
   "execution_count": 54,
   "metadata": {},
   "outputs": [],
   "source": [
    "def Desanidar(dataset, num_columna):\n",
    "        \n",
    "        def NombrarColumna(columna):\n",
    "                        \n",
    "                        flag = 0\n",
    "                        for elemento in columna:\n",
    "                                if type(elemento) == str and flag == 0:\n",
    "                                        possep = elemento.find(\":\")\n",
    "                                        nombre = dataset.columns[num_columna] + ': ' + elemento[:possep]\n",
    "                                        flag = 1\n",
    "                        return nombre\n",
    "        \n",
    "        def EliminarNombre(dato):\n",
    "        \n",
    "                        if type(dato) == str:\n",
    "                                possep = dato.find(\":\")\n",
    "                                dato = dato.replace(dato[:possep + 1], '')\n",
    "\n",
    "                        return dato\n",
    "\n",
    "        if dataset[dataset.columns[num_columna]].dtype == object:\n",
    "\n",
    "                df = dataset[dataset.columns[num_columna]].str.split(pat= ',', n= -1, expand= True)\n",
    "\n",
    "                reemplazos = [\"{\", \"}\", \"'\", \" \", '[', ']']\n",
    "\n",
    "                for column in df:\n",
    "\n",
    "                        for elemento in reemplazos:\n",
    "    \n",
    "                                df[column] = df[column].str.replace(elemento, \"\")\n",
    "        \n",
    "                        nombre = NombrarColumna(df[column])\n",
    "                        df[column] = df[column].apply(EliminarNombre)\n",
    "                        df.rename(columns= {column: nombre}, inplace= True)\n",
    "        \n",
    "                return df\n",
    "        \n",
    "        else:\n",
    "                return print(\"ERROR: No es posible desanidar correctamente, tipo de dato incorrecto en columna \", num_columna)"
   ]
  },
  {
   "cell_type": "code",
   "execution_count": 55,
   "metadata": {},
   "outputs": [],
   "source": [
    "columnas_desanidar = [1, 3, 12, 13, 17]\n",
    "\n",
    "for i, elemento in enumerate(columnas_desanidar):\n",
    "\n",
    "    col = Desanidar(movies_df, (elemento - i))\n",
    "    movies_df = movies_df.drop(movies_df.columns[elemento - i], axis=1)\n",
    "    movies_df = pd.concat([movies_df, col], axis= 1)"
   ]
  },
  {
   "cell_type": "code",
   "execution_count": 56,
   "metadata": {},
   "outputs": [
    {
     "name": "stderr",
     "output_type": "stream",
     "text": [
      "C:\\Users\\eduen\\AppData\\Local\\Temp\\ipykernel_2500\\3276383001.py:12: PerformanceWarning: DataFrame is highly fragmented.  This is usually the result of calling `frame.insert` many times, which has poor performance.  Consider joining all columns at once using pd.concat(axis=1) instead. To get a de-fragmented frame, use `newframe = frame.copy()`\n",
      "  movies_df['return'] = movies_df['revenue']/movies_df['budget']\n"
     ]
    }
   ],
   "source": [
    "\n",
    "movies_df.drop('video', axis=1, inplace=True)\n",
    "movies_df.drop('imdb_id', axis=1, inplace=True)\n",
    "movies_df.drop('adult', axis=1, inplace=True)\n",
    "movies_df.drop('original_title', axis=1, inplace=True)\n",
    "movies_df.drop('poster_path', axis=1, inplace=True)\n",
    "movies_df.drop('homepage', axis=1, inplace=True)\n",
    "movies_df['budget'] = pd.to_numeric(movies_df['budget'], errors= 'coerce')\n",
    "movies_df['budget'] = movies_df['budget'].fillna(0)\n",
    "movies_df['revenue'] = movies_df['revenue'].fillna(0)\n",
    "movies_df.dropna(subset=['release_date'], inplace=True)\n",
    "movies_df['release_date'] = pd.to_datetime(movies_df['release_date'], format= '%Y-%m-%d', errors= 'coerce')\n",
    "movies_df['return'] = movies_df['revenue']/movies_df['budget']\n",
    "movies_df['return'] = movies_df['return'].fillna(0)\n",
    "\n"
   ]
  },
  {
   "cell_type": "code",
   "execution_count": 57,
   "metadata": {},
   "outputs": [],
   "source": [
    "def obtener(dic_str):\n",
    "    id = re.findall(r\"{'credit_id': '([^']+)', 'department': 'Directing', 'gender': (\\d+), 'id': (\\d+), 'job': 'Director', 'name': '([^']+)', 'profile_path': '([^']+)'}\", dic_str)\n",
    "  \n",
    "    \n",
    "    return id if id else None"
   ]
  },
  {
   "cell_type": "code",
   "execution_count": 58,
   "metadata": {},
   "outputs": [],
   "source": [
    "\n",
    "credits_df['A'] = credits_df['crew'].apply(obtener)\n",
    "credits_df.drop('cast', axis=1, inplace=True)\n",
    "credits_df.drop('crew', axis=1, inplace=True)\n",
    "credits_df['A'] = credits_df['A'].astype(str)\n",
    "col = Desanidar(credits_df, 1)\n",
    "credits_df = pd.concat([credits_df, col], axis= 1)\n",
    "directors_df = credits_df[credits_df.columns[[0, 5]]]\n",
    "directors_df.columns.values[1] = 'director'\n"
   ]
  },
  {
   "cell_type": "code",
   "execution_count": 59,
   "metadata": {},
   "outputs": [],
   "source": [
    "movies_df.loc[:, 'id'] = pd.to_numeric(movies_df['id'], errors='coerce')\n",
    "directors_df.loc[:, 'id'] = pd.to_numeric(directors_df['id'], errors='coerce')\n",
    "df = pd.merge(movies_df, directors_df, on='id', how='outer')\n",
    "\n",
    "df.to_csv('etl_df', index= False)"
   ]
  }
 ],
 "metadata": {
  "kernelspec": {
   "display_name": "PROYECTO_INDIVIDUAL_01",
   "language": "python",
   "name": "python3"
  },
  "language_info": {
   "codemirror_mode": {
    "name": "ipython",
    "version": 3
   },
   "file_extension": ".py",
   "mimetype": "text/x-python",
   "name": "python",
   "nbconvert_exporter": "python",
   "pygments_lexer": "ipython3",
   "version": "3.11.1"
  },
  "orig_nbformat": 4
 },
 "nbformat": 4,
 "nbformat_minor": 2
}
