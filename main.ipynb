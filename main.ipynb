{
 "cells": [
  {
   "cell_type": "code",
   "execution_count": 49,
   "metadata": {},
   "outputs": [],
   "source": [
    "import pandas as pd\n",
    "import numpy as np"
   ]
  },
  {
   "cell_type": "code",
   "execution_count": 50,
   "metadata": {},
   "outputs": [
    {
     "data": {
      "text/html": [
       "<div>\n",
       "<style scoped>\n",
       "    .dataframe tbody tr th:only-of-type {\n",
       "        vertical-align: middle;\n",
       "    }\n",
       "\n",
       "    .dataframe tbody tr th {\n",
       "        vertical-align: top;\n",
       "    }\n",
       "\n",
       "    .dataframe thead th {\n",
       "        text-align: right;\n",
       "    }\n",
       "</style>\n",
       "<table border=\"1\" class=\"dataframe\">\n",
       "  <thead>\n",
       "    <tr style=\"text-align: right;\">\n",
       "      <th></th>\n",
       "      <th>original_language</th>\n",
       "      <th>overview</th>\n",
       "      <th>popularity</th>\n",
       "      <th>release_date</th>\n",
       "      <th>status</th>\n",
       "      <th>tagline</th>\n",
       "      <th>title</th>\n",
       "      <th>vote_average</th>\n",
       "      <th>anio</th>\n",
       "      <th>return_(%)</th>\n",
       "      <th>runtime_(minutos)</th>\n",
       "      <th>budget_(dolares)</th>\n",
       "      <th>revenue_(dolares)</th>\n",
       "      <th>director</th>\n",
       "      <th>belongs_to_collection</th>\n",
       "      <th>genres</th>\n",
       "      <th>production_companies</th>\n",
       "      <th>production_countries</th>\n",
       "      <th>spoken_languages</th>\n",
       "    </tr>\n",
       "  </thead>\n",
       "  <tbody>\n",
       "    <tr>\n",
       "      <th>0</th>\n",
       "      <td>en</td>\n",
       "      <td>Led by Woody, Andy's toys live happily in his ...</td>\n",
       "      <td>21.946943</td>\n",
       "      <td>1995-10-30</td>\n",
       "      <td>Released</td>\n",
       "      <td>NaN</td>\n",
       "      <td>Toy Story</td>\n",
       "      <td>7.7</td>\n",
       "      <td>1995.0</td>\n",
       "      <td>1245.0</td>\n",
       "      <td>81.0</td>\n",
       "      <td>30000000.0</td>\n",
       "      <td>373554033.0</td>\n",
       "      <td>John Lasseter</td>\n",
       "      <td>Toy Story Collection</td>\n",
       "      <td>Animation - Comedy - Family</td>\n",
       "      <td>Pixar Animation Studios</td>\n",
       "      <td>United Statesof America</td>\n",
       "      <td>English</td>\n",
       "    </tr>\n",
       "    <tr>\n",
       "      <th>1</th>\n",
       "      <td>en</td>\n",
       "      <td>When siblings Judy and Peter discover an encha...</td>\n",
       "      <td>17.015539</td>\n",
       "      <td>1995-12-15</td>\n",
       "      <td>Released</td>\n",
       "      <td>Roll the dice and unleash the excitement!</td>\n",
       "      <td>Jumanji</td>\n",
       "      <td>6.9</td>\n",
       "      <td>1995.0</td>\n",
       "      <td>404.0</td>\n",
       "      <td>104.0</td>\n",
       "      <td>65000000.0</td>\n",
       "      <td>262797249.0</td>\n",
       "      <td>Joe Johnston</td>\n",
       "      <td>NaN</td>\n",
       "      <td>Adventure - Fantasy - Family</td>\n",
       "      <td>Tri Star Pictures -  Teitler Film -  Interscop...</td>\n",
       "      <td>United Statesof America</td>\n",
       "      <td>English -  Français</td>\n",
       "    </tr>\n",
       "    <tr>\n",
       "      <th>2</th>\n",
       "      <td>en</td>\n",
       "      <td>A family wedding reignites the ancient feud be...</td>\n",
       "      <td>11.7129</td>\n",
       "      <td>1995-12-22</td>\n",
       "      <td>Released</td>\n",
       "      <td>Still Yelling. Still Fighting. Still Ready for...</td>\n",
       "      <td>Grumpier Old Men</td>\n",
       "      <td>6.5</td>\n",
       "      <td>1995.0</td>\n",
       "      <td>0.0</td>\n",
       "      <td>101.0</td>\n",
       "      <td>0.0</td>\n",
       "      <td>0.0</td>\n",
       "      <td>Howard Deutch</td>\n",
       "      <td>Grumpy Old Men Collection</td>\n",
       "      <td>Romance - Comedy</td>\n",
       "      <td>Warner Bros. -  Lancaster Gate</td>\n",
       "      <td>United Statesof America</td>\n",
       "      <td>English</td>\n",
       "    </tr>\n",
       "    <tr>\n",
       "      <th>3</th>\n",
       "      <td>en</td>\n",
       "      <td>Cheated on, mistreated and stepped on, the wom...</td>\n",
       "      <td>3.859495</td>\n",
       "      <td>1995-12-22</td>\n",
       "      <td>Released</td>\n",
       "      <td>Friends are the people who let you be yourself...</td>\n",
       "      <td>Waiting to Exhale</td>\n",
       "      <td>6.1</td>\n",
       "      <td>1995.0</td>\n",
       "      <td>509.0</td>\n",
       "      <td>127.0</td>\n",
       "      <td>16000000.0</td>\n",
       "      <td>81452156.0</td>\n",
       "      <td>Forest Whitaker</td>\n",
       "      <td>NaN</td>\n",
       "      <td>Comedy - Drama - Romance</td>\n",
       "      <td>Twentieth Century Fox Film Corporation</td>\n",
       "      <td>United Statesof America</td>\n",
       "      <td>English</td>\n",
       "    </tr>\n",
       "    <tr>\n",
       "      <th>4</th>\n",
       "      <td>en</td>\n",
       "      <td>Just when George Banks has recovered from his ...</td>\n",
       "      <td>8.387519</td>\n",
       "      <td>1995-02-10</td>\n",
       "      <td>Released</td>\n",
       "      <td>Just When His World Is Back To Normal... He's ...</td>\n",
       "      <td>Father of the Bride Part II</td>\n",
       "      <td>5.7</td>\n",
       "      <td>1995.0</td>\n",
       "      <td>0.0</td>\n",
       "      <td>106.0</td>\n",
       "      <td>0.0</td>\n",
       "      <td>76578911.0</td>\n",
       "      <td>Charles Shyer</td>\n",
       "      <td>Fatherofthe Bride Collection</td>\n",
       "      <td>Comedy</td>\n",
       "      <td>Sandollar Productions -  Touchstone Pictures</td>\n",
       "      <td>United Statesof America</td>\n",
       "      <td>English</td>\n",
       "    </tr>\n",
       "  </tbody>\n",
       "</table>\n",
       "</div>"
      ],
      "text/plain": [
       "  original_language                                           overview  \\\n",
       "0                en  Led by Woody, Andy's toys live happily in his ...   \n",
       "1                en  When siblings Judy and Peter discover an encha...   \n",
       "2                en  A family wedding reignites the ancient feud be...   \n",
       "3                en  Cheated on, mistreated and stepped on, the wom...   \n",
       "4                en  Just when George Banks has recovered from his ...   \n",
       "\n",
       "  popularity release_date    status  \\\n",
       "0  21.946943   1995-10-30  Released   \n",
       "1  17.015539   1995-12-15  Released   \n",
       "2    11.7129   1995-12-22  Released   \n",
       "3   3.859495   1995-12-22  Released   \n",
       "4   8.387519   1995-02-10  Released   \n",
       "\n",
       "                                             tagline  \\\n",
       "0                                                NaN   \n",
       "1          Roll the dice and unleash the excitement!   \n",
       "2  Still Yelling. Still Fighting. Still Ready for...   \n",
       "3  Friends are the people who let you be yourself...   \n",
       "4  Just When His World Is Back To Normal... He's ...   \n",
       "\n",
       "                         title  vote_average    anio  return_(%)  \\\n",
       "0                    Toy Story           7.7  1995.0      1245.0   \n",
       "1                      Jumanji           6.9  1995.0       404.0   \n",
       "2             Grumpier Old Men           6.5  1995.0         0.0   \n",
       "3            Waiting to Exhale           6.1  1995.0       509.0   \n",
       "4  Father of the Bride Part II           5.7  1995.0         0.0   \n",
       "\n",
       "   runtime_(minutos)  budget_(dolares)  revenue_(dolares)         director  \\\n",
       "0               81.0        30000000.0        373554033.0    John Lasseter   \n",
       "1              104.0        65000000.0        262797249.0     Joe Johnston   \n",
       "2              101.0               0.0                0.0    Howard Deutch   \n",
       "3              127.0        16000000.0         81452156.0  Forest Whitaker   \n",
       "4              106.0               0.0         76578911.0    Charles Shyer   \n",
       "\n",
       "          belongs_to_collection                        genres  \\\n",
       "0          Toy Story Collection   Animation - Comedy - Family   \n",
       "1                           NaN  Adventure - Fantasy - Family   \n",
       "2     Grumpy Old Men Collection              Romance - Comedy   \n",
       "3                           NaN      Comedy - Drama - Romance   \n",
       "4  Fatherofthe Bride Collection                        Comedy   \n",
       "\n",
       "                                production_companies     production_countries  \\\n",
       "0                            Pixar Animation Studios  United Statesof America   \n",
       "1  Tri Star Pictures -  Teitler Film -  Interscop...  United Statesof America   \n",
       "2                     Warner Bros. -  Lancaster Gate  United Statesof America   \n",
       "3             Twentieth Century Fox Film Corporation  United Statesof America   \n",
       "4       Sandollar Productions -  Touchstone Pictures  United Statesof America   \n",
       "\n",
       "      spoken_languages  \n",
       "0              English  \n",
       "1  English -  Français  \n",
       "2              English  \n",
       "3              English  \n",
       "4              English  "
      ]
     },
     "execution_count": 50,
     "metadata": {},
     "output_type": "execute_result"
    }
   ],
   "source": [
    "df = pd.read_csv('etl_df', low_memory= False)\n",
    "df.head()"
   ]
  },
  {
   "cell_type": "code",
   "execution_count": 51,
   "metadata": {},
   "outputs": [],
   "source": [
    "def peliculas_idioma(idioma: str):\n",
    "    cont = df['original_language'].value_counts()[idioma]\n",
    "    return print(cont, 'peliculas se estrenaron en', idioma)"
   ]
  },
  {
   "cell_type": "code",
   "execution_count": 52,
   "metadata": {},
   "outputs": [
    {
     "name": "stdout",
     "output_type": "stream",
     "text": [
      "992 peliculas se estrenaron en es\n"
     ]
    }
   ],
   "source": [
    "peliculas_idioma('es')"
   ]
  },
  {
   "cell_type": "code",
   "execution_count": 53,
   "metadata": {},
   "outputs": [],
   "source": [
    "def peliculas_duracion(titulo: str):\n",
    "    dato = titulo.title()\n",
    "    pelicula = df.loc[df.index[df['title'] == dato].tolist(), 'title'].iloc[0]\n",
    "    duracion = df.loc[df.index[df['title'] == dato].tolist(), 'runtime_(minutos)'].iloc[0]\n",
    "    anio = df.loc[df.index[df['title'] == dato].tolist(), 'anio'].iloc[0]\n",
    "    return pelicula, duracion, anio"
   ]
  },
  {
   "cell_type": "code",
   "execution_count": 54,
   "metadata": {},
   "outputs": [
    {
     "data": {
      "text/plain": [
       "('Jumanji', 104.0, 1995.0)"
      ]
     },
     "execution_count": 54,
     "metadata": {},
     "output_type": "execute_result"
    }
   ],
   "source": [
    "peliculas_duracion('JUMANJI')"
   ]
  },
  {
   "cell_type": "code",
   "execution_count": 55,
   "metadata": {},
   "outputs": [],
   "source": [
    "def franquicia(franquicia:str):\n",
    "    dato = franquicia.title()\n",
    "    df[\"belongs_to_collection\"] = df[\"belongs_to_collection\"].fillna('')\n",
    "    franq = df[df[\"belongs_to_collection\"].str.contains(dato, case=False)]\n",
    "    cantidad = franq['belongs_to_collection'].count()\n",
    "    ganancia_total = round(franq['revenue_(dolares)'].sum() - franq['budget_(dolares)'].sum())\n",
    "    ganancia_promedio = round(franq['revenue_(dolares)'].mean() - franq['budget_(dolares)'].mean())\n",
    "    return dato, cantidad, ganancia_total, ganancia_promedio\n",
    "\n",
    "    #return {'franquicia':franquicia, 'cantidad':respuesta, 'ganancia_total':respuesta, 'ganancia_promedio':respuesta}"
   ]
  },
  {
   "cell_type": "code",
   "execution_count": 56,
   "metadata": {},
   "outputs": [
    {
     "data": {
      "text/plain": [
       "('Toy Story', 3, 1617890605, 539296868)"
      ]
     },
     "execution_count": 56,
     "metadata": {},
     "output_type": "execute_result"
    }
   ],
   "source": [
    "franquicia('Toy Story')"
   ]
  },
  {
   "cell_type": "code",
   "execution_count": 57,
   "metadata": {},
   "outputs": [],
   "source": [
    "def peliculas_pais(pais:str):\n",
    "    dato = pais.title()\n",
    "    df[\"production_countries\"] = df[\"production_countries\"].fillna('')\n",
    "    countr = df[df[\"production_countries\"].str.contains(dato, case=False)]\n",
    "    respuesta = countr['production_countries'].count()\n",
    "\n",
    "    return dato, respuesta\n",
    "    #return {'pais':pais, 'cantidad':respuesta}\n"
   ]
  },
  {
   "cell_type": "code",
   "execution_count": 58,
   "metadata": {},
   "outputs": [
    {
     "data": {
      "text/plain": [
       "('Argentina', 254)"
      ]
     },
     "execution_count": 58,
     "metadata": {},
     "output_type": "execute_result"
    }
   ],
   "source": [
    "peliculas_pais('argentina')"
   ]
  },
  {
   "cell_type": "code",
   "execution_count": 59,
   "metadata": {},
   "outputs": [],
   "source": [
    "def productoras_exitosas(productora:str):\n",
    "    dato = productora.title()\n",
    "    df[\"production_companies\"] = df[\"production_companies\"].fillna('')\n",
    "    prod = df[df[\"production_companies\"].str.contains(dato, case=False)]\n",
    "    revenue_total = round(prod['revenue_(dolares)'].sum())\n",
    "    cantidad = prod['title'].count()\n",
    "\n",
    "    return dato, revenue_total, cantidad\n",
    "    # return {'productora':productora, 'revenue_total': respuesta,'cantidad':respuesta}"
   ]
  },
  {
   "cell_type": "code",
   "execution_count": 60,
   "metadata": {},
   "outputs": [
    {
     "data": {
      "text/plain": [
       "('Warner Bros', 67083668593, 1372)"
      ]
     },
     "execution_count": 60,
     "metadata": {},
     "output_type": "execute_result"
    }
   ],
   "source": [
    "productoras_exitosas('Warner Bros')"
   ]
  },
  {
   "cell_type": "code",
   "execution_count": 61,
   "metadata": {},
   "outputs": [],
   "source": [
    "def get_director(nombre_director:str):\n",
    "    dato = nombre_director.title()\n",
    "    dir = df[df['director'] == dato]\n",
    "    retorno_total_director = dir['revenue_(dolares)'].sum()\n",
    "    peliculas = dir['title'].unique()\n",
    "    anio = dir['anio']\n",
    "    retorno_pelicula = dir['return_(%)']\n",
    "    budget_pelicula = dir['budget_(dolares)']\n",
    "    revenue_pelicula = dir['revenue_(dolares)']\n",
    "    if dir.empty:\n",
    "       error = {'error': \"f'{dato} nombre incorrecto\"}\n",
    "       return error\n",
    "\n",
    "    return [dato, retorno_total_director, peliculas, anio, retorno_pelicula, budget_pelicula, revenue_pelicula]\n",
    "    ''' Se ingresa el nombre de un director que se encuentre dentro de un dataset debiendo devolver el éxito del mismo medido a través del retorno. \n",
    "    Además, deberá devolver el nombre de cada película con la fecha de lanzamiento, retorno individual, costo y ganancia de la misma. En formato lista'''\n",
    "    \n",
    "    # return {'director':nombre_director, 'retorno_total_director':respuesta, \n",
    "    #'peliculas':respuesta, 'anio':respuesta,, 'retorno_pelicula':respuesta, \n",
    "    #'budget_pelicula':respuesta, 'revenue_pelicula':respuesta}"
   ]
  },
  {
   "cell_type": "code",
   "execution_count": 62,
   "metadata": {},
   "outputs": [
    {
     "data": {
      "text/plain": [
       "['John Lasseter',\n",
       " 2256015306.0,\n",
       " array(['Toy Story', \"A Bug's Life\", 'Toy Story 2', 'Luxo Jr.', 'Cars',\n",
       "        'Cars 2', 'Tin Toy', \"Red's Dream\", 'Knick Knack',\n",
       "        'Mater and the Ghostlight'], dtype=object),\n",
       " 0        1995.0\n",
       " 2248     1998.0\n",
       " 3006     1999.0\n",
       " 10693    1986.0\n",
       " 11013    2006.0\n",
       " 17423    2011.0\n",
       " 19169    1988.0\n",
       " 19223    1987.0\n",
       " 19273    1989.0\n",
       " 22901    2006.0\n",
       " Name: anio, dtype: float64,\n",
       " 0        1245.0\n",
       " 2248      303.0\n",
       " 3006      553.0\n",
       " 10693       0.0\n",
       " 11013     385.0\n",
       " 17423     280.0\n",
       " 19169       0.0\n",
       " 19223       0.0\n",
       " 19273       0.0\n",
       " 22901       0.0\n",
       " Name: return_(%), dtype: float64,\n",
       " 0         30000000.0\n",
       " 2248     120000000.0\n",
       " 3006      90000000.0\n",
       " 10693            0.0\n",
       " 11013    120000000.0\n",
       " 17423    200000000.0\n",
       " 19169            0.0\n",
       " 19223            0.0\n",
       " 19273            0.0\n",
       " 22901            0.0\n",
       " Name: budget_(dolares), dtype: float64,\n",
       " 0        373554033.0\n",
       " 2248     363258859.0\n",
       " 3006     497366869.0\n",
       " 10693            0.0\n",
       " 11013    461983149.0\n",
       " 17423    559852396.0\n",
       " 19169            0.0\n",
       " 19223            0.0\n",
       " 19273            0.0\n",
       " 22901            0.0\n",
       " Name: revenue_(dolares), dtype: float64]"
      ]
     },
     "execution_count": 62,
     "metadata": {},
     "output_type": "execute_result"
    }
   ],
   "source": [
    "get_director('John Lasseter')"
   ]
  }
 ],
 "metadata": {
  "kernelspec": {
   "display_name": "PROYECTO_INDIVIDUAL_01",
   "language": "python",
   "name": "python3"
  },
  "language_info": {
   "codemirror_mode": {
    "name": "ipython",
    "version": 3
   },
   "file_extension": ".py",
   "mimetype": "text/x-python",
   "name": "python",
   "nbconvert_exporter": "python",
   "pygments_lexer": "ipython3",
   "version": "3.11.1"
  },
  "orig_nbformat": 4
 },
 "nbformat": 4,
 "nbformat_minor": 2
}
